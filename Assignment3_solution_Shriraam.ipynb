{
 "cells": [
  {
   "cell_type": "markdown",
   "id": "35cb06e2",
   "metadata": {},
   "source": [
    "# KarmaLife assingment 3 solution\n",
    "### Shriraam Muthuswamy"
   ]
  },
  {
   "cell_type": "code",
   "execution_count": 26,
   "id": "5e347efa",
   "metadata": {},
   "outputs": [
    {
     "name": "stdout",
     "output_type": "stream",
     "text": [
      "Please enter your sentence: Shriraam has completed assignment 3\n"
     ]
    }
   ],
   "source": [
    "str_word = input('Please enter your sentence: ')\n",
    "keys = str_word.split(\" \")\n",
    "words_count = dict()\n",
    "def count_words(str_word):\n",
    "    for word in keys:\n",
    "        if word in words_count:\n",
    "            words_count[word]+=1\n",
    "        else:\n",
    "            words_count[word]=1\n",
    "    return words_count"
   ]
  },
  {
   "cell_type": "code",
   "execution_count": 21,
   "id": "605d4209",
   "metadata": {},
   "outputs": [
    {
     "data": {
      "text/plain": [
       "{'oh': 1, 'what': 2, 'a': 2, 'day': 2, 'lovely': 1}"
      ]
     },
     "execution_count": 21,
     "metadata": {},
     "output_type": "execute_result"
    }
   ],
   "source": [
    "count_words(str_word)"
   ]
  },
  {
   "cell_type": "code",
   "execution_count": 23,
   "id": "5df5b2b6",
   "metadata": {},
   "outputs": [
    {
     "data": {
      "text/plain": [
       "{\"don't\": 1, 'stop': 1, 'believing': 1}"
      ]
     },
     "execution_count": 23,
     "metadata": {},
     "output_type": "execute_result"
    }
   ],
   "source": [
    "count_words(str_word)"
   ]
  },
  {
   "cell_type": "code",
   "execution_count": 25,
   "id": "6e106d96",
   "metadata": {},
   "outputs": [
    {
     "data": {
      "text/plain": [
       "{'Hi': 2, 'hi': 2, 'HI': 1}"
      ]
     },
     "execution_count": 25,
     "metadata": {},
     "output_type": "execute_result"
    }
   ],
   "source": [
    "count_words(str_word)"
   ]
  },
  {
   "cell_type": "code",
   "execution_count": 27,
   "id": "e7cdfb41",
   "metadata": {},
   "outputs": [
    {
     "data": {
      "text/plain": [
       "{'Shriraam': 1, 'has': 1, 'completed': 1, 'assignment': 1, '3': 1}"
      ]
     },
     "execution_count": 27,
     "metadata": {},
     "output_type": "execute_result"
    }
   ],
   "source": [
    "count_words(str_word)"
   ]
  },
  {
   "cell_type": "code",
   "execution_count": null,
   "id": "b60eb74f",
   "metadata": {},
   "outputs": [],
   "source": []
  }
 ],
 "metadata": {
  "kernelspec": {
   "display_name": "Python 3",
   "language": "python",
   "name": "python3"
  },
  "language_info": {
   "codemirror_mode": {
    "name": "ipython",
    "version": 3
   },
   "file_extension": ".py",
   "mimetype": "text/x-python",
   "name": "python",
   "nbconvert_exporter": "python",
   "pygments_lexer": "ipython3",
   "version": "3.8.8"
  }
 },
 "nbformat": 4,
 "nbformat_minor": 5
}
