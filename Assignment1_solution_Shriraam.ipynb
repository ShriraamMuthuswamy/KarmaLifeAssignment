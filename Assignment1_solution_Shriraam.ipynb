{
 "cells": [
  {
   "cell_type": "markdown",
   "id": "394c2744",
   "metadata": {},
   "source": [
    "## KarmaLife assingment 1 solution\n",
    "### Shriraam Muthuswamy"
   ]
  },
  {
   "cell_type": "markdown",
   "id": "4fe546c0",
   "metadata": {},
   "source": [
    "### Importing Libraries"
   ]
  },
  {
   "cell_type": "code",
   "execution_count": 1,
   "id": "3237ce16",
   "metadata": {},
   "outputs": [],
   "source": [
    "import pandas as pd"
   ]
  },
  {
   "cell_type": "markdown",
   "id": "ef26da69",
   "metadata": {},
   "source": [
    "### Importing datasets"
   ]
  },
  {
   "cell_type": "code",
   "execution_count": 2,
   "id": "004d823c",
   "metadata": {},
   "outputs": [],
   "source": [
    "user=pd.read_csv('user_table.csv')\n",
    "home=pd.read_csv('home_page_table.csv')\n",
    "search=pd.read_csv('search_page_table.csv')\n",
    "payment=pd.read_csv('payment_page_table.csv')\n",
    "confirmation=pd.read_csv('payment_confirmation_table.csv')"
   ]
  },
  {
   "cell_type": "markdown",
   "id": "3658578b",
   "metadata": {},
   "source": [
    "### Structure of dataset"
   ]
  },
  {
   "cell_type": "code",
   "execution_count": 3,
   "id": "3fa01489",
   "metadata": {},
   "outputs": [
    {
     "data": {
      "text/html": [
       "<div>\n",
       "<style scoped>\n",
       "    .dataframe tbody tr th:only-of-type {\n",
       "        vertical-align: middle;\n",
       "    }\n",
       "\n",
       "    .dataframe tbody tr th {\n",
       "        vertical-align: top;\n",
       "    }\n",
       "\n",
       "    .dataframe thead th {\n",
       "        text-align: right;\n",
       "    }\n",
       "</style>\n",
       "<table border=\"1\" class=\"dataframe\">\n",
       "  <thead>\n",
       "    <tr style=\"text-align: right;\">\n",
       "      <th></th>\n",
       "      <th>user_id</th>\n",
       "      <th>date</th>\n",
       "      <th>device</th>\n",
       "      <th>sex</th>\n",
       "    </tr>\n",
       "  </thead>\n",
       "  <tbody>\n",
       "    <tr>\n",
       "      <th>0</th>\n",
       "      <td>450007</td>\n",
       "      <td>2015-02-28</td>\n",
       "      <td>Desktop</td>\n",
       "      <td>Female</td>\n",
       "    </tr>\n",
       "    <tr>\n",
       "      <th>1</th>\n",
       "      <td>756838</td>\n",
       "      <td>2015-01-13</td>\n",
       "      <td>Desktop</td>\n",
       "      <td>Male</td>\n",
       "    </tr>\n",
       "    <tr>\n",
       "      <th>2</th>\n",
       "      <td>568983</td>\n",
       "      <td>2015-04-09</td>\n",
       "      <td>Desktop</td>\n",
       "      <td>Male</td>\n",
       "    </tr>\n",
       "    <tr>\n",
       "      <th>3</th>\n",
       "      <td>190794</td>\n",
       "      <td>2015-02-18</td>\n",
       "      <td>Desktop</td>\n",
       "      <td>Female</td>\n",
       "    </tr>\n",
       "    <tr>\n",
       "      <th>4</th>\n",
       "      <td>537909</td>\n",
       "      <td>2015-01-15</td>\n",
       "      <td>Desktop</td>\n",
       "      <td>Male</td>\n",
       "    </tr>\n",
       "  </tbody>\n",
       "</table>\n",
       "</div>"
      ],
      "text/plain": [
       "   user_id        date   device     sex\n",
       "0   450007  2015-02-28  Desktop  Female\n",
       "1   756838  2015-01-13  Desktop    Male\n",
       "2   568983  2015-04-09  Desktop    Male\n",
       "3   190794  2015-02-18  Desktop  Female\n",
       "4   537909  2015-01-15  Desktop    Male"
      ]
     },
     "execution_count": 3,
     "metadata": {},
     "output_type": "execute_result"
    }
   ],
   "source": [
    "user.head()"
   ]
  },
  {
   "cell_type": "code",
   "execution_count": 4,
   "id": "9193262f",
   "metadata": {},
   "outputs": [
    {
     "data": {
      "text/html": [
       "<div>\n",
       "<style scoped>\n",
       "    .dataframe tbody tr th:only-of-type {\n",
       "        vertical-align: middle;\n",
       "    }\n",
       "\n",
       "    .dataframe tbody tr th {\n",
       "        vertical-align: top;\n",
       "    }\n",
       "\n",
       "    .dataframe thead th {\n",
       "        text-align: right;\n",
       "    }\n",
       "</style>\n",
       "<table border=\"1\" class=\"dataframe\">\n",
       "  <thead>\n",
       "    <tr style=\"text-align: right;\">\n",
       "      <th></th>\n",
       "      <th>user_id</th>\n",
       "      <th>page</th>\n",
       "    </tr>\n",
       "  </thead>\n",
       "  <tbody>\n",
       "    <tr>\n",
       "      <th>0</th>\n",
       "      <td>313593</td>\n",
       "      <td>home_page</td>\n",
       "    </tr>\n",
       "    <tr>\n",
       "      <th>1</th>\n",
       "      <td>468315</td>\n",
       "      <td>home_page</td>\n",
       "    </tr>\n",
       "    <tr>\n",
       "      <th>2</th>\n",
       "      <td>264005</td>\n",
       "      <td>home_page</td>\n",
       "    </tr>\n",
       "    <tr>\n",
       "      <th>3</th>\n",
       "      <td>290784</td>\n",
       "      <td>home_page</td>\n",
       "    </tr>\n",
       "    <tr>\n",
       "      <th>4</th>\n",
       "      <td>639104</td>\n",
       "      <td>home_page</td>\n",
       "    </tr>\n",
       "  </tbody>\n",
       "</table>\n",
       "</div>"
      ],
      "text/plain": [
       "   user_id       page\n",
       "0   313593  home_page\n",
       "1   468315  home_page\n",
       "2   264005  home_page\n",
       "3   290784  home_page\n",
       "4   639104  home_page"
      ]
     },
     "execution_count": 4,
     "metadata": {},
     "output_type": "execute_result"
    }
   ],
   "source": [
    "home.head()"
   ]
  },
  {
   "cell_type": "code",
   "execution_count": 5,
   "id": "d5b8db94",
   "metadata": {},
   "outputs": [
    {
     "data": {
      "text/html": [
       "<div>\n",
       "<style scoped>\n",
       "    .dataframe tbody tr th:only-of-type {\n",
       "        vertical-align: middle;\n",
       "    }\n",
       "\n",
       "    .dataframe tbody tr th {\n",
       "        vertical-align: top;\n",
       "    }\n",
       "\n",
       "    .dataframe thead th {\n",
       "        text-align: right;\n",
       "    }\n",
       "</style>\n",
       "<table border=\"1\" class=\"dataframe\">\n",
       "  <thead>\n",
       "    <tr style=\"text-align: right;\">\n",
       "      <th></th>\n",
       "      <th>user_id</th>\n",
       "      <th>page</th>\n",
       "    </tr>\n",
       "  </thead>\n",
       "  <tbody>\n",
       "    <tr>\n",
       "      <th>0</th>\n",
       "      <td>15866</td>\n",
       "      <td>search_page</td>\n",
       "    </tr>\n",
       "    <tr>\n",
       "      <th>1</th>\n",
       "      <td>347058</td>\n",
       "      <td>search_page</td>\n",
       "    </tr>\n",
       "    <tr>\n",
       "      <th>2</th>\n",
       "      <td>577020</td>\n",
       "      <td>search_page</td>\n",
       "    </tr>\n",
       "    <tr>\n",
       "      <th>3</th>\n",
       "      <td>780347</td>\n",
       "      <td>search_page</td>\n",
       "    </tr>\n",
       "    <tr>\n",
       "      <th>4</th>\n",
       "      <td>383739</td>\n",
       "      <td>search_page</td>\n",
       "    </tr>\n",
       "  </tbody>\n",
       "</table>\n",
       "</div>"
      ],
      "text/plain": [
       "   user_id         page\n",
       "0    15866  search_page\n",
       "1   347058  search_page\n",
       "2   577020  search_page\n",
       "3   780347  search_page\n",
       "4   383739  search_page"
      ]
     },
     "execution_count": 5,
     "metadata": {},
     "output_type": "execute_result"
    }
   ],
   "source": [
    "search.head()"
   ]
  },
  {
   "cell_type": "code",
   "execution_count": 6,
   "id": "5708e0bf",
   "metadata": {},
   "outputs": [
    {
     "data": {
      "text/html": [
       "<div>\n",
       "<style scoped>\n",
       "    .dataframe tbody tr th:only-of-type {\n",
       "        vertical-align: middle;\n",
       "    }\n",
       "\n",
       "    .dataframe tbody tr th {\n",
       "        vertical-align: top;\n",
       "    }\n",
       "\n",
       "    .dataframe thead th {\n",
       "        text-align: right;\n",
       "    }\n",
       "</style>\n",
       "<table border=\"1\" class=\"dataframe\">\n",
       "  <thead>\n",
       "    <tr style=\"text-align: right;\">\n",
       "      <th></th>\n",
       "      <th>user_id</th>\n",
       "      <th>page</th>\n",
       "    </tr>\n",
       "  </thead>\n",
       "  <tbody>\n",
       "    <tr>\n",
       "      <th>0</th>\n",
       "      <td>253019</td>\n",
       "      <td>payment_page</td>\n",
       "    </tr>\n",
       "    <tr>\n",
       "      <th>1</th>\n",
       "      <td>310478</td>\n",
       "      <td>payment_page</td>\n",
       "    </tr>\n",
       "    <tr>\n",
       "      <th>2</th>\n",
       "      <td>304081</td>\n",
       "      <td>payment_page</td>\n",
       "    </tr>\n",
       "    <tr>\n",
       "      <th>3</th>\n",
       "      <td>901286</td>\n",
       "      <td>payment_page</td>\n",
       "    </tr>\n",
       "    <tr>\n",
       "      <th>4</th>\n",
       "      <td>195052</td>\n",
       "      <td>payment_page</td>\n",
       "    </tr>\n",
       "  </tbody>\n",
       "</table>\n",
       "</div>"
      ],
      "text/plain": [
       "   user_id          page\n",
       "0   253019  payment_page\n",
       "1   310478  payment_page\n",
       "2   304081  payment_page\n",
       "3   901286  payment_page\n",
       "4   195052  payment_page"
      ]
     },
     "execution_count": 6,
     "metadata": {},
     "output_type": "execute_result"
    }
   ],
   "source": [
    "payment.head()"
   ]
  },
  {
   "cell_type": "code",
   "execution_count": 7,
   "id": "14beb2a3",
   "metadata": {},
   "outputs": [
    {
     "data": {
      "text/html": [
       "<div>\n",
       "<style scoped>\n",
       "    .dataframe tbody tr th:only-of-type {\n",
       "        vertical-align: middle;\n",
       "    }\n",
       "\n",
       "    .dataframe tbody tr th {\n",
       "        vertical-align: top;\n",
       "    }\n",
       "\n",
       "    .dataframe thead th {\n",
       "        text-align: right;\n",
       "    }\n",
       "</style>\n",
       "<table border=\"1\" class=\"dataframe\">\n",
       "  <thead>\n",
       "    <tr style=\"text-align: right;\">\n",
       "      <th></th>\n",
       "      <th>user_id</th>\n",
       "      <th>page</th>\n",
       "    </tr>\n",
       "  </thead>\n",
       "  <tbody>\n",
       "    <tr>\n",
       "      <th>0</th>\n",
       "      <td>123100</td>\n",
       "      <td>payment_confirmation_page</td>\n",
       "    </tr>\n",
       "    <tr>\n",
       "      <th>1</th>\n",
       "      <td>704999</td>\n",
       "      <td>payment_confirmation_page</td>\n",
       "    </tr>\n",
       "    <tr>\n",
       "      <th>2</th>\n",
       "      <td>407188</td>\n",
       "      <td>payment_confirmation_page</td>\n",
       "    </tr>\n",
       "    <tr>\n",
       "      <th>3</th>\n",
       "      <td>538348</td>\n",
       "      <td>payment_confirmation_page</td>\n",
       "    </tr>\n",
       "    <tr>\n",
       "      <th>4</th>\n",
       "      <td>841681</td>\n",
       "      <td>payment_confirmation_page</td>\n",
       "    </tr>\n",
       "  </tbody>\n",
       "</table>\n",
       "</div>"
      ],
      "text/plain": [
       "   user_id                       page\n",
       "0   123100  payment_confirmation_page\n",
       "1   704999  payment_confirmation_page\n",
       "2   407188  payment_confirmation_page\n",
       "3   538348  payment_confirmation_page\n",
       "4   841681  payment_confirmation_page"
      ]
     },
     "execution_count": 7,
     "metadata": {},
     "output_type": "execute_result"
    }
   ],
   "source": [
    "confirmation.head()"
   ]
  },
  {
   "cell_type": "markdown",
   "id": "6a67e94b",
   "metadata": {},
   "source": [
    "### Number of Rows and Columns in dataset"
   ]
  },
  {
   "cell_type": "code",
   "execution_count": 8,
   "id": "41ccf06b",
   "metadata": {},
   "outputs": [
    {
     "data": {
      "text/plain": [
       "(90400, 4)"
      ]
     },
     "execution_count": 8,
     "metadata": {},
     "output_type": "execute_result"
    }
   ],
   "source": [
    "user.shape\n"
   ]
  },
  {
   "cell_type": "code",
   "execution_count": 9,
   "id": "ea832030",
   "metadata": {},
   "outputs": [
    {
     "data": {
      "text/plain": [
       "(90400, 2)"
      ]
     },
     "execution_count": 9,
     "metadata": {},
     "output_type": "execute_result"
    }
   ],
   "source": [
    "home.shape\n"
   ]
  },
  {
   "cell_type": "code",
   "execution_count": 10,
   "id": "68ead74d",
   "metadata": {},
   "outputs": [
    {
     "data": {
      "text/plain": [
       "(45200, 2)"
      ]
     },
     "execution_count": 10,
     "metadata": {},
     "output_type": "execute_result"
    }
   ],
   "source": [
    "search.shape\n"
   ]
  },
  {
   "cell_type": "code",
   "execution_count": 11,
   "id": "26989573",
   "metadata": {},
   "outputs": [
    {
     "data": {
      "text/plain": [
       "(6030, 2)"
      ]
     },
     "execution_count": 11,
     "metadata": {},
     "output_type": "execute_result"
    }
   ],
   "source": [
    "payment.shape\n"
   ]
  },
  {
   "cell_type": "code",
   "execution_count": 12,
   "id": "c000368f",
   "metadata": {},
   "outputs": [
    {
     "data": {
      "text/plain": [
       "(452, 2)"
      ]
     },
     "execution_count": 12,
     "metadata": {},
     "output_type": "execute_result"
    }
   ],
   "source": [
    "confirmation.shape"
   ]
  },
  {
   "cell_type": "markdown",
   "id": "09b7cb84",
   "metadata": {},
   "source": [
    "### Unique users in each of the dataset"
   ]
  },
  {
   "cell_type": "code",
   "execution_count": 13,
   "id": "41e4f9e6",
   "metadata": {},
   "outputs": [
    {
     "data": {
      "text/plain": [
       "90400"
      ]
     },
     "execution_count": 13,
     "metadata": {},
     "output_type": "execute_result"
    }
   ],
   "source": [
    "user['user_id'].nunique()"
   ]
  },
  {
   "cell_type": "code",
   "execution_count": 14,
   "id": "1e67939c",
   "metadata": {},
   "outputs": [
    {
     "data": {
      "text/plain": [
       "90400"
      ]
     },
     "execution_count": 14,
     "metadata": {},
     "output_type": "execute_result"
    }
   ],
   "source": [
    "home['user_id'].nunique()"
   ]
  },
  {
   "cell_type": "code",
   "execution_count": 15,
   "id": "a6c18d28",
   "metadata": {},
   "outputs": [
    {
     "data": {
      "text/plain": [
       "45200"
      ]
     },
     "execution_count": 15,
     "metadata": {},
     "output_type": "execute_result"
    }
   ],
   "source": [
    "search['user_id'].nunique()"
   ]
  },
  {
   "cell_type": "code",
   "execution_count": 16,
   "id": "a1b66027",
   "metadata": {},
   "outputs": [
    {
     "data": {
      "text/plain": [
       "6030"
      ]
     },
     "execution_count": 16,
     "metadata": {},
     "output_type": "execute_result"
    }
   ],
   "source": [
    "payment['user_id'].nunique()"
   ]
  },
  {
   "cell_type": "code",
   "execution_count": 17,
   "id": "b436c0ca",
   "metadata": {},
   "outputs": [
    {
     "data": {
      "text/plain": [
       "452"
      ]
     },
     "execution_count": 17,
     "metadata": {},
     "output_type": "execute_result"
    }
   ],
   "source": [
    "confirmation['user_id'].nunique()"
   ]
  },
  {
   "cell_type": "markdown",
   "id": "64011226",
   "metadata": {},
   "source": [
    "### Exploring the datasets by Device, Sex, Date for each of the pages"
   ]
  },
  {
   "cell_type": "code",
   "execution_count": 18,
   "id": "c08e586c",
   "metadata": {},
   "outputs": [
    {
     "data": {
      "text/plain": [
       "device\n",
       "Desktop    60200\n",
       "Mobile     30200\n",
       "Name: user_id, dtype: int64"
      ]
     },
     "execution_count": 18,
     "metadata": {},
     "output_type": "execute_result"
    }
   ],
   "source": [
    "df=user.groupby('device')['user_id'].count()\n",
    "df"
   ]
  },
  {
   "cell_type": "code",
   "execution_count": 78,
   "id": "0154f5bd",
   "metadata": {},
   "outputs": [
    {
     "data": {
      "text/html": [
       "<div>\n",
       "<style scoped>\n",
       "    .dataframe tbody tr th:only-of-type {\n",
       "        vertical-align: middle;\n",
       "    }\n",
       "\n",
       "    .dataframe tbody tr th {\n",
       "        vertical-align: top;\n",
       "    }\n",
       "\n",
       "    .dataframe thead th {\n",
       "        text-align: right;\n",
       "    }\n",
       "</style>\n",
       "<table border=\"1\" class=\"dataframe\">\n",
       "  <thead>\n",
       "    <tr style=\"text-align: right;\">\n",
       "      <th></th>\n",
       "      <th>user_id</th>\n",
       "      <th>page</th>\n",
       "      <th>date</th>\n",
       "      <th>device</th>\n",
       "      <th>sex</th>\n",
       "    </tr>\n",
       "  </thead>\n",
       "  <tbody>\n",
       "    <tr>\n",
       "      <th>0</th>\n",
       "      <td>313593</td>\n",
       "      <td>home_page</td>\n",
       "      <td>2015-02-26</td>\n",
       "      <td>Desktop</td>\n",
       "      <td>Female</td>\n",
       "    </tr>\n",
       "    <tr>\n",
       "      <th>1</th>\n",
       "      <td>468315</td>\n",
       "      <td>home_page</td>\n",
       "      <td>2015-02-21</td>\n",
       "      <td>Desktop</td>\n",
       "      <td>Male</td>\n",
       "    </tr>\n",
       "    <tr>\n",
       "      <th>2</th>\n",
       "      <td>264005</td>\n",
       "      <td>home_page</td>\n",
       "      <td>2015-03-25</td>\n",
       "      <td>Desktop</td>\n",
       "      <td>Female</td>\n",
       "    </tr>\n",
       "    <tr>\n",
       "      <th>3</th>\n",
       "      <td>290784</td>\n",
       "      <td>home_page</td>\n",
       "      <td>2015-03-14</td>\n",
       "      <td>Desktop</td>\n",
       "      <td>Male</td>\n",
       "    </tr>\n",
       "    <tr>\n",
       "      <th>4</th>\n",
       "      <td>639104</td>\n",
       "      <td>home_page</td>\n",
       "      <td>2015-01-03</td>\n",
       "      <td>Desktop</td>\n",
       "      <td>Female</td>\n",
       "    </tr>\n",
       "    <tr>\n",
       "      <th>...</th>\n",
       "      <td>...</td>\n",
       "      <td>...</td>\n",
       "      <td>...</td>\n",
       "      <td>...</td>\n",
       "      <td>...</td>\n",
       "    </tr>\n",
       "    <tr>\n",
       "      <th>90395</th>\n",
       "      <td>456851</td>\n",
       "      <td>home_page</td>\n",
       "      <td>2015-03-16</td>\n",
       "      <td>Mobile</td>\n",
       "      <td>Male</td>\n",
       "    </tr>\n",
       "    <tr>\n",
       "      <th>90396</th>\n",
       "      <td>128619</td>\n",
       "      <td>home_page</td>\n",
       "      <td>2015-04-16</td>\n",
       "      <td>Desktop</td>\n",
       "      <td>Male</td>\n",
       "    </tr>\n",
       "    <tr>\n",
       "      <th>90397</th>\n",
       "      <td>167290</td>\n",
       "      <td>home_page</td>\n",
       "      <td>2015-03-29</td>\n",
       "      <td>Desktop</td>\n",
       "      <td>Female</td>\n",
       "    </tr>\n",
       "    <tr>\n",
       "      <th>90398</th>\n",
       "      <td>437765</td>\n",
       "      <td>home_page</td>\n",
       "      <td>2015-04-27</td>\n",
       "      <td>Desktop</td>\n",
       "      <td>Male</td>\n",
       "    </tr>\n",
       "    <tr>\n",
       "      <th>90399</th>\n",
       "      <td>337840</td>\n",
       "      <td>home_page</td>\n",
       "      <td>2015-02-07</td>\n",
       "      <td>Desktop</td>\n",
       "      <td>Male</td>\n",
       "    </tr>\n",
       "  </tbody>\n",
       "</table>\n",
       "<p>90400 rows × 5 columns</p>\n",
       "</div>"
      ],
      "text/plain": [
       "       user_id       page        date   device     sex\n",
       "0       313593  home_page  2015-02-26  Desktop  Female\n",
       "1       468315  home_page  2015-02-21  Desktop    Male\n",
       "2       264005  home_page  2015-03-25  Desktop  Female\n",
       "3       290784  home_page  2015-03-14  Desktop    Male\n",
       "4       639104  home_page  2015-01-03  Desktop  Female\n",
       "...        ...        ...         ...      ...     ...\n",
       "90395   456851  home_page  2015-03-16   Mobile    Male\n",
       "90396   128619  home_page  2015-04-16  Desktop    Male\n",
       "90397   167290  home_page  2015-03-29  Desktop  Female\n",
       "90398   437765  home_page  2015-04-27  Desktop    Male\n",
       "90399   337840  home_page  2015-02-07  Desktop    Male\n",
       "\n",
       "[90400 rows x 5 columns]"
      ]
     },
     "execution_count": 78,
     "metadata": {},
     "output_type": "execute_result"
    }
   ],
   "source": [
    "df_home = pd.merge(home, user, how='inner', on='user_id')\n",
    "df_home"
   ]
  },
  {
   "cell_type": "code",
   "execution_count": 79,
   "id": "0d3274b6",
   "metadata": {},
   "outputs": [
    {
     "data": {
      "text/plain": [
       "device\n",
       "Desktop    60200\n",
       "Mobile     30200\n",
       "Name: user_id, dtype: int64"
      ]
     },
     "execution_count": 79,
     "metadata": {},
     "output_type": "execute_result"
    }
   ],
   "source": [
    "df0=df_home.groupby('device')['user_id'].count()\n",
    "df0"
   ]
  },
  {
   "cell_type": "code",
   "execution_count": 22,
   "id": "889acf8e",
   "metadata": {},
   "outputs": [
    {
     "data": {
      "text/plain": [
       "sex\n",
       "Female    45075\n",
       "Male      45325\n",
       "Name: user_id, dtype: int64"
      ]
     },
     "execution_count": 22,
     "metadata": {},
     "output_type": "execute_result"
    }
   ],
   "source": [
    "df3=user.groupby('sex')['user_id'].count()\n",
    "df3"
   ]
  },
  {
   "cell_type": "code",
   "execution_count": 19,
   "id": "82e95617",
   "metadata": {},
   "outputs": [
    {
     "data": {
      "text/html": [
       "<div>\n",
       "<style scoped>\n",
       "    .dataframe tbody tr th:only-of-type {\n",
       "        vertical-align: middle;\n",
       "    }\n",
       "\n",
       "    .dataframe tbody tr th {\n",
       "        vertical-align: top;\n",
       "    }\n",
       "\n",
       "    .dataframe thead th {\n",
       "        text-align: right;\n",
       "    }\n",
       "</style>\n",
       "<table border=\"1\" class=\"dataframe\">\n",
       "  <thead>\n",
       "    <tr style=\"text-align: right;\">\n",
       "      <th></th>\n",
       "      <th>user_id</th>\n",
       "      <th>page</th>\n",
       "      <th>date</th>\n",
       "      <th>device</th>\n",
       "      <th>sex</th>\n",
       "    </tr>\n",
       "  </thead>\n",
       "  <tbody>\n",
       "    <tr>\n",
       "      <th>0</th>\n",
       "      <td>15866</td>\n",
       "      <td>search_page</td>\n",
       "      <td>2015-03-15</td>\n",
       "      <td>Desktop</td>\n",
       "      <td>Male</td>\n",
       "    </tr>\n",
       "    <tr>\n",
       "      <th>1</th>\n",
       "      <td>347058</td>\n",
       "      <td>search_page</td>\n",
       "      <td>2015-03-22</td>\n",
       "      <td>Desktop</td>\n",
       "      <td>Male</td>\n",
       "    </tr>\n",
       "    <tr>\n",
       "      <th>2</th>\n",
       "      <td>577020</td>\n",
       "      <td>search_page</td>\n",
       "      <td>2015-04-29</td>\n",
       "      <td>Mobile</td>\n",
       "      <td>Male</td>\n",
       "    </tr>\n",
       "    <tr>\n",
       "      <th>3</th>\n",
       "      <td>780347</td>\n",
       "      <td>search_page</td>\n",
       "      <td>2015-03-14</td>\n",
       "      <td>Desktop</td>\n",
       "      <td>Female</td>\n",
       "    </tr>\n",
       "    <tr>\n",
       "      <th>4</th>\n",
       "      <td>383739</td>\n",
       "      <td>search_page</td>\n",
       "      <td>2015-03-20</td>\n",
       "      <td>Desktop</td>\n",
       "      <td>Male</td>\n",
       "    </tr>\n",
       "    <tr>\n",
       "      <th>...</th>\n",
       "      <td>...</td>\n",
       "      <td>...</td>\n",
       "      <td>...</td>\n",
       "      <td>...</td>\n",
       "      <td>...</td>\n",
       "    </tr>\n",
       "    <tr>\n",
       "      <th>45195</th>\n",
       "      <td>417880</td>\n",
       "      <td>search_page</td>\n",
       "      <td>2015-03-05</td>\n",
       "      <td>Desktop</td>\n",
       "      <td>Male</td>\n",
       "    </tr>\n",
       "    <tr>\n",
       "      <th>45196</th>\n",
       "      <td>989982</td>\n",
       "      <td>search_page</td>\n",
       "      <td>2015-04-24</td>\n",
       "      <td>Desktop</td>\n",
       "      <td>Male</td>\n",
       "    </tr>\n",
       "    <tr>\n",
       "      <th>45197</th>\n",
       "      <td>428806</td>\n",
       "      <td>search_page</td>\n",
       "      <td>2015-01-15</td>\n",
       "      <td>Desktop</td>\n",
       "      <td>Female</td>\n",
       "    </tr>\n",
       "    <tr>\n",
       "      <th>45198</th>\n",
       "      <td>609493</td>\n",
       "      <td>search_page</td>\n",
       "      <td>2015-02-22</td>\n",
       "      <td>Desktop</td>\n",
       "      <td>Female</td>\n",
       "    </tr>\n",
       "    <tr>\n",
       "      <th>45199</th>\n",
       "      <td>303221</td>\n",
       "      <td>search_page</td>\n",
       "      <td>2015-03-29</td>\n",
       "      <td>Desktop</td>\n",
       "      <td>Female</td>\n",
       "    </tr>\n",
       "  </tbody>\n",
       "</table>\n",
       "<p>45200 rows × 5 columns</p>\n",
       "</div>"
      ],
      "text/plain": [
       "       user_id         page        date   device     sex\n",
       "0        15866  search_page  2015-03-15  Desktop    Male\n",
       "1       347058  search_page  2015-03-22  Desktop    Male\n",
       "2       577020  search_page  2015-04-29   Mobile    Male\n",
       "3       780347  search_page  2015-03-14  Desktop  Female\n",
       "4       383739  search_page  2015-03-20  Desktop    Male\n",
       "...        ...          ...         ...      ...     ...\n",
       "45195   417880  search_page  2015-03-05  Desktop    Male\n",
       "45196   989982  search_page  2015-04-24  Desktop    Male\n",
       "45197   428806  search_page  2015-01-15  Desktop  Female\n",
       "45198   609493  search_page  2015-02-22  Desktop  Female\n",
       "45199   303221  search_page  2015-03-29  Desktop  Female\n",
       "\n",
       "[45200 rows x 5 columns]"
      ]
     },
     "execution_count": 19,
     "metadata": {},
     "output_type": "execute_result"
    }
   ],
   "source": [
    "df_search = pd.merge(search, user, how='inner', on='user_id')\n",
    "df_search"
   ]
  },
  {
   "cell_type": "code",
   "execution_count": 20,
   "id": "bd8fcc8f",
   "metadata": {},
   "outputs": [
    {
     "data": {
      "text/plain": [
       "device\n",
       "Desktop    30100\n",
       "Mobile     15100\n",
       "Name: user_id, dtype: int64"
      ]
     },
     "execution_count": 20,
     "metadata": {},
     "output_type": "execute_result"
    }
   ],
   "source": [
    "df1=df_search.groupby('device')['user_id'].count()\n",
    "df1"
   ]
  },
  {
   "cell_type": "code",
   "execution_count": 23,
   "id": "86c59c77",
   "metadata": {},
   "outputs": [
    {
     "data": {
      "text/plain": [
       "sex\n",
       "Female    22676\n",
       "Male      22524\n",
       "Name: user_id, dtype: int64"
      ]
     },
     "execution_count": 23,
     "metadata": {},
     "output_type": "execute_result"
    }
   ],
   "source": [
    "df4=df_search.groupby('sex')['user_id'].count()\n",
    "df4"
   ]
  },
  {
   "cell_type": "code",
   "execution_count": 24,
   "id": "1c3e32fb",
   "metadata": {},
   "outputs": [
    {
     "data": {
      "text/html": [
       "<div>\n",
       "<style scoped>\n",
       "    .dataframe tbody tr th:only-of-type {\n",
       "        vertical-align: middle;\n",
       "    }\n",
       "\n",
       "    .dataframe tbody tr th {\n",
       "        vertical-align: top;\n",
       "    }\n",
       "\n",
       "    .dataframe thead th {\n",
       "        text-align: right;\n",
       "    }\n",
       "</style>\n",
       "<table border=\"1\" class=\"dataframe\">\n",
       "  <thead>\n",
       "    <tr style=\"text-align: right;\">\n",
       "      <th></th>\n",
       "      <th>user_id</th>\n",
       "      <th>page</th>\n",
       "      <th>date</th>\n",
       "      <th>device</th>\n",
       "      <th>sex</th>\n",
       "    </tr>\n",
       "  </thead>\n",
       "  <tbody>\n",
       "    <tr>\n",
       "      <th>0</th>\n",
       "      <td>253019</td>\n",
       "      <td>payment_page</td>\n",
       "      <td>2015-01-28</td>\n",
       "      <td>Desktop</td>\n",
       "      <td>Female</td>\n",
       "    </tr>\n",
       "    <tr>\n",
       "      <th>1</th>\n",
       "      <td>310478</td>\n",
       "      <td>payment_page</td>\n",
       "      <td>2015-01-23</td>\n",
       "      <td>Mobile</td>\n",
       "      <td>Male</td>\n",
       "    </tr>\n",
       "    <tr>\n",
       "      <th>2</th>\n",
       "      <td>304081</td>\n",
       "      <td>payment_page</td>\n",
       "      <td>2015-02-06</td>\n",
       "      <td>Mobile</td>\n",
       "      <td>Male</td>\n",
       "    </tr>\n",
       "    <tr>\n",
       "      <th>3</th>\n",
       "      <td>901286</td>\n",
       "      <td>payment_page</td>\n",
       "      <td>2015-02-15</td>\n",
       "      <td>Desktop</td>\n",
       "      <td>Male</td>\n",
       "    </tr>\n",
       "    <tr>\n",
       "      <th>4</th>\n",
       "      <td>195052</td>\n",
       "      <td>payment_page</td>\n",
       "      <td>2015-02-21</td>\n",
       "      <td>Mobile</td>\n",
       "      <td>Female</td>\n",
       "    </tr>\n",
       "    <tr>\n",
       "      <th>...</th>\n",
       "      <td>...</td>\n",
       "      <td>...</td>\n",
       "      <td>...</td>\n",
       "      <td>...</td>\n",
       "      <td>...</td>\n",
       "    </tr>\n",
       "    <tr>\n",
       "      <th>6025</th>\n",
       "      <td>23639</td>\n",
       "      <td>payment_page</td>\n",
       "      <td>2015-04-22</td>\n",
       "      <td>Desktop</td>\n",
       "      <td>Female</td>\n",
       "    </tr>\n",
       "    <tr>\n",
       "      <th>6026</th>\n",
       "      <td>659242</td>\n",
       "      <td>payment_page</td>\n",
       "      <td>2015-01-21</td>\n",
       "      <td>Desktop</td>\n",
       "      <td>Male</td>\n",
       "    </tr>\n",
       "    <tr>\n",
       "      <th>6027</th>\n",
       "      <td>395342</td>\n",
       "      <td>payment_page</td>\n",
       "      <td>2015-01-18</td>\n",
       "      <td>Mobile</td>\n",
       "      <td>Female</td>\n",
       "    </tr>\n",
       "    <tr>\n",
       "      <th>6028</th>\n",
       "      <td>637777</td>\n",
       "      <td>payment_page</td>\n",
       "      <td>2015-01-12</td>\n",
       "      <td>Desktop</td>\n",
       "      <td>Female</td>\n",
       "    </tr>\n",
       "    <tr>\n",
       "      <th>6029</th>\n",
       "      <td>604008</td>\n",
       "      <td>payment_page</td>\n",
       "      <td>2015-04-22</td>\n",
       "      <td>Desktop</td>\n",
       "      <td>Female</td>\n",
       "    </tr>\n",
       "  </tbody>\n",
       "</table>\n",
       "<p>6030 rows × 5 columns</p>\n",
       "</div>"
      ],
      "text/plain": [
       "      user_id          page        date   device     sex\n",
       "0      253019  payment_page  2015-01-28  Desktop  Female\n",
       "1      310478  payment_page  2015-01-23   Mobile    Male\n",
       "2      304081  payment_page  2015-02-06   Mobile    Male\n",
       "3      901286  payment_page  2015-02-15  Desktop    Male\n",
       "4      195052  payment_page  2015-02-21   Mobile  Female\n",
       "...       ...           ...         ...      ...     ...\n",
       "6025    23639  payment_page  2015-04-22  Desktop  Female\n",
       "6026   659242  payment_page  2015-01-21  Desktop    Male\n",
       "6027   395342  payment_page  2015-01-18   Mobile  Female\n",
       "6028   637777  payment_page  2015-01-12  Desktop  Female\n",
       "6029   604008  payment_page  2015-04-22  Desktop  Female\n",
       "\n",
       "[6030 rows x 5 columns]"
      ]
     },
     "execution_count": 24,
     "metadata": {},
     "output_type": "execute_result"
    }
   ],
   "source": [
    "df_payment = pd.merge(payment, user, how='inner', on='user_id')\n",
    "df_payment"
   ]
  },
  {
   "cell_type": "code",
   "execution_count": 25,
   "id": "37da6711",
   "metadata": {},
   "outputs": [
    {
     "data": {
      "text/plain": [
       "device\n",
       "Desktop    3010\n",
       "Mobile     3020\n",
       "Name: user_id, dtype: int64"
      ]
     },
     "execution_count": 25,
     "metadata": {},
     "output_type": "execute_result"
    }
   ],
   "source": [
    "df5=df_payment.groupby('device')['user_id'].count()\n",
    "df5"
   ]
  },
  {
   "cell_type": "code",
   "execution_count": 26,
   "id": "01d408bd",
   "metadata": {},
   "outputs": [
    {
     "data": {
      "text/plain": [
       "sex\n",
       "Female    3100\n",
       "Male      2930\n",
       "Name: user_id, dtype: int64"
      ]
     },
     "execution_count": 26,
     "metadata": {},
     "output_type": "execute_result"
    }
   ],
   "source": [
    "df6=df_payment.groupby('sex')['user_id'].count()\n",
    "df6"
   ]
  },
  {
   "cell_type": "code",
   "execution_count": 27,
   "id": "77537954",
   "metadata": {},
   "outputs": [
    {
     "data": {
      "text/html": [
       "<div>\n",
       "<style scoped>\n",
       "    .dataframe tbody tr th:only-of-type {\n",
       "        vertical-align: middle;\n",
       "    }\n",
       "\n",
       "    .dataframe tbody tr th {\n",
       "        vertical-align: top;\n",
       "    }\n",
       "\n",
       "    .dataframe thead th {\n",
       "        text-align: right;\n",
       "    }\n",
       "</style>\n",
       "<table border=\"1\" class=\"dataframe\">\n",
       "  <thead>\n",
       "    <tr style=\"text-align: right;\">\n",
       "      <th></th>\n",
       "      <th>user_id</th>\n",
       "      <th>page</th>\n",
       "      <th>date</th>\n",
       "      <th>device</th>\n",
       "      <th>sex</th>\n",
       "    </tr>\n",
       "  </thead>\n",
       "  <tbody>\n",
       "    <tr>\n",
       "      <th>0</th>\n",
       "      <td>123100</td>\n",
       "      <td>payment_confirmation_page</td>\n",
       "      <td>2015-02-24</td>\n",
       "      <td>Desktop</td>\n",
       "      <td>Female</td>\n",
       "    </tr>\n",
       "    <tr>\n",
       "      <th>1</th>\n",
       "      <td>704999</td>\n",
       "      <td>payment_confirmation_page</td>\n",
       "      <td>2015-03-19</td>\n",
       "      <td>Mobile</td>\n",
       "      <td>Female</td>\n",
       "    </tr>\n",
       "    <tr>\n",
       "      <th>2</th>\n",
       "      <td>407188</td>\n",
       "      <td>payment_confirmation_page</td>\n",
       "      <td>2015-01-17</td>\n",
       "      <td>Mobile</td>\n",
       "      <td>Female</td>\n",
       "    </tr>\n",
       "    <tr>\n",
       "      <th>3</th>\n",
       "      <td>538348</td>\n",
       "      <td>payment_confirmation_page</td>\n",
       "      <td>2015-02-03</td>\n",
       "      <td>Mobile</td>\n",
       "      <td>Female</td>\n",
       "    </tr>\n",
       "    <tr>\n",
       "      <th>4</th>\n",
       "      <td>841681</td>\n",
       "      <td>payment_confirmation_page</td>\n",
       "      <td>2015-01-09</td>\n",
       "      <td>Mobile</td>\n",
       "      <td>Female</td>\n",
       "    </tr>\n",
       "    <tr>\n",
       "      <th>...</th>\n",
       "      <td>...</td>\n",
       "      <td>...</td>\n",
       "      <td>...</td>\n",
       "      <td>...</td>\n",
       "      <td>...</td>\n",
       "    </tr>\n",
       "    <tr>\n",
       "      <th>447</th>\n",
       "      <td>397473</td>\n",
       "      <td>payment_confirmation_page</td>\n",
       "      <td>2015-01-12</td>\n",
       "      <td>Mobile</td>\n",
       "      <td>Female</td>\n",
       "    </tr>\n",
       "    <tr>\n",
       "      <th>448</th>\n",
       "      <td>860829</td>\n",
       "      <td>payment_confirmation_page</td>\n",
       "      <td>2015-02-07</td>\n",
       "      <td>Mobile</td>\n",
       "      <td>Female</td>\n",
       "    </tr>\n",
       "    <tr>\n",
       "      <th>449</th>\n",
       "      <td>371291</td>\n",
       "      <td>payment_confirmation_page</td>\n",
       "      <td>2015-02-17</td>\n",
       "      <td>Mobile</td>\n",
       "      <td>Female</td>\n",
       "    </tr>\n",
       "    <tr>\n",
       "      <th>450</th>\n",
       "      <td>263707</td>\n",
       "      <td>payment_confirmation_page</td>\n",
       "      <td>2015-03-20</td>\n",
       "      <td>Mobile</td>\n",
       "      <td>Female</td>\n",
       "    </tr>\n",
       "    <tr>\n",
       "      <th>451</th>\n",
       "      <td>892101</td>\n",
       "      <td>payment_confirmation_page</td>\n",
       "      <td>2015-01-06</td>\n",
       "      <td>Desktop</td>\n",
       "      <td>Male</td>\n",
       "    </tr>\n",
       "  </tbody>\n",
       "</table>\n",
       "<p>452 rows × 5 columns</p>\n",
       "</div>"
      ],
      "text/plain": [
       "     user_id                       page        date   device     sex\n",
       "0     123100  payment_confirmation_page  2015-02-24  Desktop  Female\n",
       "1     704999  payment_confirmation_page  2015-03-19   Mobile  Female\n",
       "2     407188  payment_confirmation_page  2015-01-17   Mobile  Female\n",
       "3     538348  payment_confirmation_page  2015-02-03   Mobile  Female\n",
       "4     841681  payment_confirmation_page  2015-01-09   Mobile  Female\n",
       "..       ...                        ...         ...      ...     ...\n",
       "447   397473  payment_confirmation_page  2015-01-12   Mobile  Female\n",
       "448   860829  payment_confirmation_page  2015-02-07   Mobile  Female\n",
       "449   371291  payment_confirmation_page  2015-02-17   Mobile  Female\n",
       "450   263707  payment_confirmation_page  2015-03-20   Mobile  Female\n",
       "451   892101  payment_confirmation_page  2015-01-06  Desktop    Male\n",
       "\n",
       "[452 rows x 5 columns]"
      ]
     },
     "execution_count": 27,
     "metadata": {},
     "output_type": "execute_result"
    }
   ],
   "source": [
    "df_confirm = pd.merge(confirmation, user, how='inner', on='user_id')\n",
    "df_confirm"
   ]
  },
  {
   "cell_type": "code",
   "execution_count": 28,
   "id": "be12d4f7",
   "metadata": {},
   "outputs": [
    {
     "data": {
      "text/plain": [
       "device\n",
       "Desktop    150\n",
       "Mobile     302\n",
       "Name: user_id, dtype: int64"
      ]
     },
     "execution_count": 28,
     "metadata": {},
     "output_type": "execute_result"
    }
   ],
   "source": [
    "df7=df_confirm.groupby('device')['user_id'].count()\n",
    "df7"
   ]
  },
  {
   "cell_type": "code",
   "execution_count": 29,
   "id": "8a3b563c",
   "metadata": {},
   "outputs": [
    {
     "data": {
      "text/plain": [
       "sex\n",
       "Female    241\n",
       "Male      211\n",
       "Name: user_id, dtype: int64"
      ]
     },
     "execution_count": 29,
     "metadata": {},
     "output_type": "execute_result"
    }
   ],
   "source": [
    "df8=df_confirm.groupby('sex')['user_id'].count()\n",
    "df8"
   ]
  },
  {
   "cell_type": "code",
   "execution_count": 31,
   "id": "1f06b99e",
   "metadata": {},
   "outputs": [
    {
     "data": {
      "text/plain": [
       "user_id     int64\n",
       "page       object\n",
       "date       object\n",
       "device     object\n",
       "sex        object\n",
       "dtype: object"
      ]
     },
     "execution_count": 31,
     "metadata": {},
     "output_type": "execute_result"
    }
   ],
   "source": [
    "df_confirm.dtypes"
   ]
  },
  {
   "cell_type": "code",
   "execution_count": 32,
   "id": "f3605068",
   "metadata": {},
   "outputs": [],
   "source": [
    "df_search['date']=pd.to_datetime(df_search['date'])"
   ]
  },
  {
   "cell_type": "code",
   "execution_count": 33,
   "id": "6d35cf3b",
   "metadata": {},
   "outputs": [
    {
     "data": {
      "text/plain": [
       "user_id             int64\n",
       "page               object\n",
       "date       datetime64[ns]\n",
       "device             object\n",
       "sex                object\n",
       "dtype: object"
      ]
     },
     "execution_count": 33,
     "metadata": {},
     "output_type": "execute_result"
    }
   ],
   "source": [
    "df_search.dtypes"
   ]
  },
  {
   "cell_type": "code",
   "execution_count": 34,
   "id": "5924e0eb",
   "metadata": {},
   "outputs": [],
   "source": [
    "df_search['month']=df_search['date'].dt.to_period('M')"
   ]
  },
  {
   "cell_type": "code",
   "execution_count": 35,
   "id": "7cbcaf9c",
   "metadata": {},
   "outputs": [
    {
     "data": {
      "text/html": [
       "<div>\n",
       "<style scoped>\n",
       "    .dataframe tbody tr th:only-of-type {\n",
       "        vertical-align: middle;\n",
       "    }\n",
       "\n",
       "    .dataframe tbody tr th {\n",
       "        vertical-align: top;\n",
       "    }\n",
       "\n",
       "    .dataframe thead th {\n",
       "        text-align: right;\n",
       "    }\n",
       "</style>\n",
       "<table border=\"1\" class=\"dataframe\">\n",
       "  <thead>\n",
       "    <tr style=\"text-align: right;\">\n",
       "      <th></th>\n",
       "      <th>user_id</th>\n",
       "      <th>page</th>\n",
       "      <th>date</th>\n",
       "      <th>device</th>\n",
       "      <th>sex</th>\n",
       "      <th>month</th>\n",
       "    </tr>\n",
       "  </thead>\n",
       "  <tbody>\n",
       "    <tr>\n",
       "      <th>0</th>\n",
       "      <td>15866</td>\n",
       "      <td>search_page</td>\n",
       "      <td>2015-03-15</td>\n",
       "      <td>Desktop</td>\n",
       "      <td>Male</td>\n",
       "      <td>2015-03</td>\n",
       "    </tr>\n",
       "    <tr>\n",
       "      <th>1</th>\n",
       "      <td>347058</td>\n",
       "      <td>search_page</td>\n",
       "      <td>2015-03-22</td>\n",
       "      <td>Desktop</td>\n",
       "      <td>Male</td>\n",
       "      <td>2015-03</td>\n",
       "    </tr>\n",
       "    <tr>\n",
       "      <th>2</th>\n",
       "      <td>577020</td>\n",
       "      <td>search_page</td>\n",
       "      <td>2015-04-29</td>\n",
       "      <td>Mobile</td>\n",
       "      <td>Male</td>\n",
       "      <td>2015-04</td>\n",
       "    </tr>\n",
       "    <tr>\n",
       "      <th>3</th>\n",
       "      <td>780347</td>\n",
       "      <td>search_page</td>\n",
       "      <td>2015-03-14</td>\n",
       "      <td>Desktop</td>\n",
       "      <td>Female</td>\n",
       "      <td>2015-03</td>\n",
       "    </tr>\n",
       "    <tr>\n",
       "      <th>4</th>\n",
       "      <td>383739</td>\n",
       "      <td>search_page</td>\n",
       "      <td>2015-03-20</td>\n",
       "      <td>Desktop</td>\n",
       "      <td>Male</td>\n",
       "      <td>2015-03</td>\n",
       "    </tr>\n",
       "  </tbody>\n",
       "</table>\n",
       "</div>"
      ],
      "text/plain": [
       "   user_id         page       date   device     sex    month\n",
       "0    15866  search_page 2015-03-15  Desktop    Male  2015-03\n",
       "1   347058  search_page 2015-03-22  Desktop    Male  2015-03\n",
       "2   577020  search_page 2015-04-29   Mobile    Male  2015-04\n",
       "3   780347  search_page 2015-03-14  Desktop  Female  2015-03\n",
       "4   383739  search_page 2015-03-20  Desktop    Male  2015-03"
      ]
     },
     "execution_count": 35,
     "metadata": {},
     "output_type": "execute_result"
    }
   ],
   "source": [
    "df_search.head()"
   ]
  },
  {
   "cell_type": "code",
   "execution_count": 59,
   "id": "5cd5085b",
   "metadata": {},
   "outputs": [
    {
     "data": {
      "text/plain": [
       "month\n",
       "2015-01    13554\n",
       "2015-02    13687\n",
       "2015-03     8879\n",
       "2015-04     9080\n",
       "Freq: M, Name: user_id, dtype: int64"
      ]
     },
     "execution_count": 59,
     "metadata": {},
     "output_type": "execute_result"
    }
   ],
   "source": [
    "df_search_0=df_search.groupby(['month'])['user_id'].count()\n",
    "df_search_0"
   ]
  },
  {
   "cell_type": "code",
   "execution_count": 60,
   "id": "1068eea1",
   "metadata": {},
   "outputs": [
    {
     "data": {
      "text/plain": [
       "<AxesSubplot:xlabel='month'>"
      ]
     },
     "execution_count": 60,
     "metadata": {},
     "output_type": "execute_result"
    },
    {
     "data": {
      "image/png": "[encoded data removed]",
      "text/plain": [
       "<Figure size 432x288 with 1 Axes>"
      ]
     },
     "metadata": {
      "needs_background": "light"
     },
     "output_type": "display_data"
    }
   ],
   "source": [
    "df_search_0.plot()"
   ]
  },
  {
   "cell_type": "code",
   "execution_count": 47,
   "id": "ab78155d",
   "metadata": {},
   "outputs": [
    {
     "data": {
      "text/plain": [
       "month    device \n",
       "2015-01  Desktop    7529\n",
       "         Mobile     6025\n",
       "2015-02  Desktop    7632\n",
       "         Mobile     6055\n",
       "2015-03  Desktop    7370\n",
       "         Mobile     1509\n",
       "2015-04  Desktop    7569\n",
       "         Mobile     1511\n",
       "Name: user_id, dtype: int64"
      ]
     },
     "execution_count": 47,
     "metadata": {},
     "output_type": "execute_result"
    }
   ],
   "source": [
    "df_search_1=df_search.groupby(['month','device'])['user_id'].count()\n",
    "df_search_1"
   ]
  },
  {
   "cell_type": "code",
   "execution_count": 55,
   "id": "acedae0a",
   "metadata": {},
   "outputs": [
    {
     "data": {
      "text/plain": [
       "<AxesSubplot:xlabel='month,device'>"
      ]
     },
     "execution_count": 55,
     "metadata": {},
     "output_type": "execute_result"
    },
    {
     "data": {
      "image/png": "[encoded data removed]",
      "text/plain": [
       "<Figure size 432x288 with 1 Axes>"
      ]
     },
     "metadata": {
      "needs_background": "light"
     },
     "output_type": "display_data"
    }
   ],
   "source": [
    "df_search_1.plot(kind='bar')"
   ]
  },
  {
   "cell_type": "code",
   "execution_count": 61,
   "id": "c62296ed",
   "metadata": {},
   "outputs": [
    {
     "data": {
      "text/plain": [
       "month    sex   \n",
       "2015-01  Female    6913\n",
       "         Male      6641\n",
       "2015-02  Female    6820\n",
       "         Male      6867\n",
       "2015-03  Female    4454\n",
       "         Male      4425\n",
       "2015-04  Female    4489\n",
       "         Male      4591\n",
       "Name: user_id, dtype: int64"
      ]
     },
     "execution_count": 61,
     "metadata": {},
     "output_type": "execute_result"
    }
   ],
   "source": [
    "df_search_2=df_search.groupby(['month','sex'])['user_id'].count()\n",
    "df_search_2"
   ]
  },
  {
   "cell_type": "code",
   "execution_count": 62,
   "id": "a8ae1408",
   "metadata": {},
   "outputs": [
    {
     "data": {
      "text/plain": [
       "<AxesSubplot:xlabel='month,sex'>"
      ]
     },
     "execution_count": 62,
     "metadata": {},
     "output_type": "execute_result"
    },
    {
     "data": {
      "image/png": "[encoded data removed]",
      "text/plain": [
       "<Figure size 432x288 with 1 Axes>"
      ]
     },
     "metadata": {
      "needs_background": "light"
     },
     "output_type": "display_data"
    }
   ],
   "source": [
    "df_search_2.plot(kind='bar')"
   ]
  },
  {
   "cell_type": "code",
   "execution_count": 57,
   "id": "5c171cc7",
   "metadata": {},
   "outputs": [],
   "source": [
    "df_payment['date']=pd.to_datetime(df_payment['date'])\n",
    "df_payment['month']=df_payment['date'].dt.to_period('M')"
   ]
  },
  {
   "cell_type": "code",
   "execution_count": 63,
   "id": "11efbec2",
   "metadata": {},
   "outputs": [
    {
     "data": {
      "text/plain": [
       "month\n",
       "2015-01    2390\n",
       "2015-02    2412\n",
       "2015-03     631\n",
       "2015-04     597\n",
       "Freq: M, Name: user_id, dtype: int64"
      ]
     },
     "execution_count": 63,
     "metadata": {},
     "output_type": "execute_result"
    }
   ],
   "source": [
    "df_payment_0=df_payment.groupby(['month'])['user_id'].count()\n",
    "df_payment_0"
   ]
  },
  {
   "cell_type": "code",
   "execution_count": 64,
   "id": "306d88f4",
   "metadata": {},
   "outputs": [
    {
     "data": {
      "text/plain": [
       "<AxesSubplot:xlabel='month'>"
      ]
     },
     "execution_count": 64,
     "metadata": {},
     "output_type": "execute_result"
    },
    {
     "data": {
      "image/png": "[encoded data removed]",
      "text/plain": [
       "<Figure size 432x288 with 1 Axes>"
      ]
     },
     "metadata": {
      "needs_background": "light"
     },
     "output_type": "display_data"
    }
   ],
   "source": [
    "df_payment_0.plot()"
   ]
  },
  {
   "cell_type": "code",
   "execution_count": 65,
   "id": "89e7271f",
   "metadata": {},
   "outputs": [
    {
     "data": {
      "text/plain": [
       "month    device \n",
       "2015-01  Desktop    1221\n",
       "         Mobile     1169\n",
       "2015-02  Desktop    1191\n",
       "         Mobile     1221\n",
       "2015-03  Desktop     296\n",
       "         Mobile      335\n",
       "2015-04  Desktop     302\n",
       "         Mobile      295\n",
       "Name: user_id, dtype: int64"
      ]
     },
     "execution_count": 65,
     "metadata": {},
     "output_type": "execute_result"
    }
   ],
   "source": [
    "df_payment_1=df_payment.groupby(['month','device'])['user_id'].count()\n",
    "df_payment_1"
   ]
  },
  {
   "cell_type": "code",
   "execution_count": 67,
   "id": "f36174da",
   "metadata": {},
   "outputs": [
    {
     "data": {
      "text/plain": [
       "<AxesSubplot:xlabel='month,device'>"
      ]
     },
     "execution_count": 67,
     "metadata": {},
     "output_type": "execute_result"
    },
    {
     "data": {
      "image/png": "[encoded data removed]",
      "text/plain": [
       "<Figure size 432x288 with 1 Axes>"
      ]
     },
     "metadata": {
      "needs_background": "light"
     },
     "output_type": "display_data"
    }
   ],
   "source": [
    "df_payment_1.plot(kind='bar')"
   ]
  },
  {
   "cell_type": "code",
   "execution_count": 68,
   "id": "afbad6a3",
   "metadata": {},
   "outputs": [
    {
     "data": {
      "text/plain": [
       "month    sex   \n",
       "2015-01  Female    1243\n",
       "         Male      1147\n",
       "2015-02  Female    1235\n",
       "         Male      1177\n",
       "2015-03  Female     337\n",
       "         Male       294\n",
       "2015-04  Female     285\n",
       "         Male       312\n",
       "Name: user_id, dtype: int64"
      ]
     },
     "execution_count": 68,
     "metadata": {},
     "output_type": "execute_result"
    }
   ],
   "source": [
    "df_payment_2=df_payment.groupby(['month','sex'])['user_id'].count()\n",
    "df_payment_2"
   ]
  },
  {
   "cell_type": "code",
   "execution_count": 69,
   "id": "036e1d08",
   "metadata": {},
   "outputs": [
    {
     "data": {
      "text/plain": [
       "<AxesSubplot:xlabel='month,sex'>"
      ]
     },
     "execution_count": 69,
     "metadata": {},
     "output_type": "execute_result"
    },
    {
     "data": {
      "image/png": "[encoded data removed]",
      "text/plain": [
       "<Figure size 432x288 with 1 Axes>"
      ]
     },
     "metadata": {
      "needs_background": "light"
     },
     "output_type": "display_data"
    }
   ],
   "source": [
    "df_payment_2.plot(kind='bar')"
   ]
  },
  {
   "cell_type": "code",
   "execution_count": 70,
   "id": "bdf4332a",
   "metadata": {},
   "outputs": [],
   "source": [
    "df_confirm['date']=pd.to_datetime(df_confirm['date'])\n",
    "df_confirm['month']=df_confirm['date'].dt.to_period('M')"
   ]
  },
  {
   "cell_type": "code",
   "execution_count": 71,
   "id": "ca01093b",
   "metadata": {},
   "outputs": [
    {
     "data": {
      "text/plain": [
       "month\n",
       "2015-01    189\n",
       "2015-02    173\n",
       "2015-03     44\n",
       "2015-04     46\n",
       "Freq: M, Name: user_id, dtype: int64"
      ]
     },
     "execution_count": 71,
     "metadata": {},
     "output_type": "execute_result"
    }
   ],
   "source": [
    "df_confirm_0=df_confirm.groupby(['month'])['user_id'].count()\n",
    "df_confirm_0"
   ]
  },
  {
   "cell_type": "code",
   "execution_count": 72,
   "id": "06f5b721",
   "metadata": {},
   "outputs": [
    {
     "data": {
      "text/plain": [
       "<AxesSubplot:xlabel='month'>"
      ]
     },
     "execution_count": 72,
     "metadata": {},
     "output_type": "execute_result"
    },
    {
     "data": {
      "image/png": "[encoded data removed]",
      "text/plain": [
       "<Figure size 432x288 with 1 Axes>"
      ]
     },
     "metadata": {
      "needs_background": "light"
     },
     "output_type": "display_data"
    }
   ],
   "source": [
    "df_confirm_0.plot()"
   ]
  },
  {
   "cell_type": "code",
   "execution_count": 73,
   "id": "809f0173",
   "metadata": {},
   "outputs": [
    {
     "data": {
      "text/plain": [
       "month    device \n",
       "2015-01  Desktop     60\n",
       "         Mobile     129\n",
       "2015-02  Desktop     54\n",
       "         Mobile     119\n",
       "2015-03  Desktop     14\n",
       "         Mobile      30\n",
       "2015-04  Desktop     22\n",
       "         Mobile      24\n",
       "Name: user_id, dtype: int64"
      ]
     },
     "execution_count": 73,
     "metadata": {},
     "output_type": "execute_result"
    }
   ],
   "source": [
    "df_confirm_payment_1=df_confirm.groupby(['month','device'])['user_id'].count()\n",
    "df_confirm_payment_1"
   ]
  },
  {
   "cell_type": "code",
   "execution_count": 74,
   "id": "9d2b0410",
   "metadata": {},
   "outputs": [
    {
     "data": {
      "text/plain": [
       "<AxesSubplot:xlabel='month,device'>"
      ]
     },
     "execution_count": 74,
     "metadata": {},
     "output_type": "execute_result"
    },
    {
     "data": {
      "image/png": "[encoded data removed]",
      "text/plain": [
       "<Figure size 432x288 with 1 Axes>"
      ]
     },
     "metadata": {
      "needs_background": "light"
     },
     "output_type": "display_data"
    }
   ],
   "source": [
    "df_confirm_payment_1.plot(kind='bar')"
   ]
  },
  {
   "cell_type": "code",
   "execution_count": 75,
   "id": "1465d456",
   "metadata": {},
   "outputs": [
    {
     "data": {
      "text/plain": [
       "month    sex   \n",
       "2015-01  Female    109\n",
       "         Male       80\n",
       "2015-02  Female     86\n",
       "         Male       87\n",
       "2015-03  Female     26\n",
       "         Male       18\n",
       "2015-04  Female     20\n",
       "         Male       26\n",
       "Name: user_id, dtype: int64"
      ]
     },
     "execution_count": 75,
     "metadata": {},
     "output_type": "execute_result"
    }
   ],
   "source": [
    "df_confirm_payment_2=df_confirm.groupby(['month','sex'])['user_id'].count()\n",
    "df_confirm_payment_2"
   ]
  },
  {
   "cell_type": "code",
   "execution_count": 76,
   "id": "9609d1b4",
   "metadata": {},
   "outputs": [
    {
     "data": {
      "text/plain": [
       "<AxesSubplot:xlabel='month,sex'>"
      ]
     },
     "execution_count": 76,
     "metadata": {},
     "output_type": "execute_result"
    },
    {
     "data": {
      "image/png": "[encoded data removed]",
      "text/plain": [
       "<Figure size 432x288 with 1 Axes>"
      ]
     },
     "metadata": {
      "needs_background": "light"
     },
     "output_type": "display_data"
    }
   ],
   "source": [
    "df_confirm_payment_2.plot(kind='bar')"
   ]
  },
  {
   "cell_type": "markdown",
   "id": "2ee42970",
   "metadata": {},
   "source": [
    "### Insights"
   ]
  },
  {
   "cell_type": "markdown",
   "id": "2f753f9f",
   "metadata": {},
   "source": [
    "### Full picture of comparision of funnel conversion rate for both desktop and mobile"
   ]
  },
  {
   "cell_type": "code",
   "execution_count": 82,
   "id": "a6d6a168",
   "metadata": {},
   "outputs": [
    {
     "name": "stdout",
     "output_type": "stream",
     "text": [
      "Processing c:\\users\\shriraam.muthuswamy\\onedrive - subex limited\\documents\\personal\\notes\\weekly learning\\assignment for da candidates\\plotly-3.5.0-py2.py3-none-any.whlNote: you may need to restart the kernel to use updated packages.\n",
      "\n",
      "Requirement already satisfied: decorator>=4.0.6 in c:\\programdata\\anaconda3\\lib\\site-packages (from plotly==3.5.0) (5.0.6)\n",
      "Requirement already satisfied: pytz in c:\\programdata\\anaconda3\\lib\\site-packages (from plotly==3.5.0) (2021.1)\n",
      "Requirement already satisfied: requests in c:\\programdata\\anaconda3\\lib\\site-packages (from plotly==3.5.0) (2.25.1)\n",
      "Requirement already satisfied: nbformat>=4.2 in c:\\programdata\\anaconda3\\lib\\site-packages (from plotly==3.5.0) (5.1.3)\n",
      "Requirement already satisfied: six in c:\\programdata\\anaconda3\\lib\\site-packages (from plotly==3.5.0) (1.15.0)\n",
      "Collecting retrying>=1.3.3\n",
      "  Downloading retrying-1.3.3.tar.gz (10 kB)\n",
      "Requirement already satisfied: ipython-genutils in c:\\programdata\\anaconda3\\lib\\site-packages (from nbformat>=4.2->plotly==3.5.0) (0.2.0)\n",
      "Requirement already satisfied: traitlets>=4.1 in c:\\programdata\\anaconda3\\lib\\site-packages (from nbformat>=4.2->plotly==3.5.0) (5.0.5)\n",
      "Requirement already satisfied: jsonschema!=2.5.0,>=2.4 in c:\\programdata\\anaconda3\\lib\\site-packages (from nbformat>=4.2->plotly==3.5.0) (3.2.0)\n",
      "Requirement already satisfied: jupyter-core in c:\\programdata\\anaconda3\\lib\\site-packages (from nbformat>=4.2->plotly==3.5.0) (4.7.1)\n",
      "Requirement already satisfied: setuptools in c:\\programdata\\anaconda3\\lib\\site-packages (from jsonschema!=2.5.0,>=2.4->nbformat>=4.2->plotly==3.5.0) (52.0.0.post20210125)\n",
      "Requirement already satisfied: pyrsistent>=0.14.0 in c:\\programdata\\anaconda3\\lib\\site-packages (from jsonschema!=2.5.0,>=2.4->nbformat>=4.2->plotly==3.5.0) (0.17.3)\n",
      "Requirement already satisfied: attrs>=17.4.0 in c:\\programdata\\anaconda3\\lib\\site-packages (from jsonschema!=2.5.0,>=2.4->nbformat>=4.2->plotly==3.5.0) (20.3.0)\n",
      "Requirement already satisfied: pywin32>=1.0 in c:\\programdata\\anaconda3\\lib\\site-packages (from jupyter-core->nbformat>=4.2->plotly==3.5.0) (227)\n",
      "Requirement already satisfied: certifi>=2017.4.17 in c:\\programdata\\anaconda3\\lib\\site-packages (from requests->plotly==3.5.0) (2020.12.5)\n",
      "Requirement already satisfied: chardet<5,>=3.0.2 in c:\\programdata\\anaconda3\\lib\\site-packages (from requests->plotly==3.5.0) (4.0.0)\n",
      "Requirement already satisfied: idna<3,>=2.5 in c:\\programdata\\anaconda3\\lib\\site-packages (from requests->plotly==3.5.0) (2.10)\n",
      "Requirement already satisfied: urllib3<1.27,>=1.21.1 in c:\\programdata\\anaconda3\\lib\\site-packages (from requests->plotly==3.5.0) (1.26.4)\n",
      "Building wheels for collected packages: retrying\n",
      "  Building wheel for retrying (setup.py): started\n",
      "  Building wheel for retrying (setup.py): finished with status 'done'\n",
      "  Created wheel for retrying: filename=retrying-1.3.3-py3-none-any.whl size=11429 sha256=ade9e3106f18807dde0d31e31a6c2580e97f72e95f4d8dd90e9df660c84667b5\n",
      "  Stored in directory: c:\\users\\shriraam.muthuswamy\\appdata\\local\\pip\\cache\\wheels\\c4\\a7\\48\\0a434133f6d56e878ca511c0e6c38326907c0792f67b476e56\n",
      "Successfully built retrying\n",
      "Installing collected packages: retrying, plotly\n",
      "Successfully installed plotly-3.5.0 retrying-1.3.3\n"
     ]
    }
   ],
   "source": [
    "pip install plotly-3.5.0-py2.py3-none-any.whl"
   ]
  },
  {
   "cell_type": "code",
   "execution_count": 86,
   "id": "e6c21334",
   "metadata": {},
   "outputs": [
    {
     "ename": "ModuleNotFoundError",
     "evalue": "No module named 'plotly.express'",
     "output_type": "error",
     "traceback": [
      "\u001b[1;31m---------------------------------------------------------------------------\u001b[0m",
      "\u001b[1;31mModuleNotFoundError\u001b[0m                       Traceback (most recent call last)",
      "\u001b[1;32m<ipython-input-86-6d3eea51a093>\u001b[0m in \u001b[0;36m<module>\u001b[1;34m\u001b[0m\n\u001b[1;32m----> 1\u001b[1;33m \u001b[1;32mimport\u001b[0m \u001b[0mplotly\u001b[0m\u001b[1;33m.\u001b[0m\u001b[0mexpress\u001b[0m \u001b[1;32mas\u001b[0m \u001b[0mpx\u001b[0m\u001b[1;33m\u001b[0m\u001b[1;33m\u001b[0m\u001b[0m\n\u001b[0m\u001b[0;32m      2\u001b[0m \u001b[1;32mimport\u001b[0m \u001b[0mpandas\u001b[0m \u001b[1;32mas\u001b[0m \u001b[0mpd\u001b[0m\u001b[1;33m\u001b[0m\u001b[1;33m\u001b[0m\u001b[0m\n\u001b[0;32m      3\u001b[0m \u001b[0mstages\u001b[0m \u001b[1;33m=\u001b[0m \u001b[1;33m[\u001b[0m\u001b[1;34m\"Home page visits [Awareness]\"\u001b[0m\u001b[1;33m,\u001b[0m \u001b[1;34m\"Search page visits [Interest]\"\u001b[0m\u001b[1;33m,\u001b[0m \u001b[1;34m\"Payment page visits [Desire]\"\u001b[0m\u001b[1;33m,\u001b[0m \u001b[1;34m\"Potential customers [Conversion]\"\u001b[0m\u001b[1;33m]\u001b[0m\u001b[1;33m\u001b[0m\u001b[1;33m\u001b[0m\u001b[0m\n\u001b[0;32m      4\u001b[0m \u001b[0mdf_desktop\u001b[0m \u001b[1;33m=\u001b[0m \u001b[0mpd\u001b[0m\u001b[1;33m.\u001b[0m\u001b[0mDataFrame\u001b[0m\u001b[1;33m(\u001b[0m\u001b[0mdict\u001b[0m\u001b[1;33m(\u001b[0m\u001b[0mnumber\u001b[0m\u001b[1;33m=\u001b[0m\u001b[1;33m[\u001b[0m\u001b[1;36m66.59\u001b[0m\u001b[1;33m,\u001b[0m \u001b[1;36m33.30\u001b[0m\u001b[1;33m,\u001b[0m \u001b[1;36m3.33\u001b[0m\u001b[1;33m,\u001b[0m \u001b[1;36m0.17\u001b[0m\u001b[1;33m]\u001b[0m\u001b[1;33m,\u001b[0m \u001b[0mstage\u001b[0m\u001b[1;33m=\u001b[0m\u001b[0mstages\u001b[0m\u001b[1;33m)\u001b[0m\u001b[1;33m)\u001b[0m\u001b[1;33m\u001b[0m\u001b[1;33m\u001b[0m\u001b[0m\n\u001b[0;32m      5\u001b[0m \u001b[0mdf_desktop\u001b[0m\u001b[1;33m[\u001b[0m\u001b[1;34m'device'\u001b[0m\u001b[1;33m]\u001b[0m \u001b[1;33m=\u001b[0m \u001b[1;34m'Desktop'\u001b[0m\u001b[1;33m\u001b[0m\u001b[1;33m\u001b[0m\u001b[0m\n",
      "\u001b[1;31mModuleNotFoundError\u001b[0m: No module named 'plotly.express'"
     ]
    }
   ],
   "source": [
    "import plotly.express as px\n",
    "import pandas as pd\n",
    "stages = [\"Home page visits [Awareness]\", \"Search page visits [Interest]\", \"Payment page visits [Desire]\", \"Potential customers [Conversion]\"]\n",
    "df_desktop = pd.DataFrame(dict(number=[66.59, 33.30, 3.33, 0.17], stage=stages))\n",
    "df_desktop['device'] = 'Desktop'\n",
    "df_mobile = pd.DataFrame(dict(number=[33.41, 16.70, 3.34, 0.33], stage=stages))\n",
    "df_mobile['device'] = 'Mobile'\n",
    "df = pd.concat([df_desktop, df_mobile], axis=0)\n",
    "fig = px.funnel(df, x='number', y='stage', color='device')\n",
    "fig.show()"
   ]
  },
  {
   "cell_type": "code",
   "execution_count": 91,
   "id": "1157df24",
   "metadata": {},
   "outputs": [
    {
     "data": {
      "text/plain": [
       "<AxesSubplot:>"
      ]
     },
     "execution_count": 91,
     "metadata": {},
     "output_type": "execute_result"
    },
    {
     "data": {
      "image/png": "[encoded data removed]",
      "text/plain": [
       "<Figure size 432x288 with 1 Axes>"
      ]
     },
     "metadata": {
      "needs_background": "light"
     },
     "output_type": "display_data"
    }
   ],
   "source": [
    "import pandas as pd\n",
    "stages = [\"Home page visits [Awareness]\", \"Search page visits [Interest]\", \"Payment page visits [Desire]\", \"Potential customers [Conversion]\"]\n",
    "df_desktop = pd.DataFrame(dict(number=[66.59, 33.30, 3.33, 0.17], stage=stages))\n",
    "df_desktop['device'] = 'Desktop'\n",
    "df_mobile = pd.DataFrame(dict(number=[33.41, 16.70, 3.34, 0.33], stage=stages))\n",
    "df_mobile['device'] = 'Mobile'\n",
    "df = pd.concat([df_desktop, df_mobile], axis=0)\n",
    "df.plot(kind='bar')"
   ]
  },
  {
   "cell_type": "markdown",
   "id": "999d5755",
   "metadata": {},
   "source": [
    "1. Since this is an e-commerce website, generally, “Conversion funnel” (also known as “sales funnel”) is a term that helps you to visualize and understand the flow through which a potential customer lands on your site and then takes a desired action (i.e. converts)\n",
    "Reference: https://www.bigcommerce.com/blog/conversion-rate-optimization-conversion-funnel/#what-is-a-conversion-funnel\n",
    "\n",
    "2. There are five stages: Awareness, Interest, Desire, Conversion, Re-engage.\n",
    "3. We will shift our focus to the type of devices the user has used to access the website: Desktop and Mobile\n",
    "4. Given the data, it is very evident that around 67% of the users is visiting the website for the first time using their Desktop which is really surprising. Only 33% is actually using their mobile phones to access website. So, I highly suspect that the website is not mobile-screen friendly. Albeit, they could have developed initially to be compatible with all sort of devices screens. \n",
    "5. But, as we go down to the next stage, ie. Interest, only half of the people from both the devices (Desktop and Mobile) turned out to be continuing to the search window. So, the pain-point could be that UI/ UX in both the devices has to be improved. \n",
    "6. Moving on to the next stage of funnel: Desire, it has been observed that people using mobile phones are showing more desire to buy a product than desktop users given the fact that only about 10% of the desktop users from the previous stage navigated to purchase page whereas around 20% of the users from mobile phone users showed desire to purchase a product\n",
    "7. Finally, the potential customers who are actually purchasing the products by making the payment are in the same trend as the previous stage. 10% of the mobile phone users who showed the interest in the previous stage actually purchased the product, whereas only around 5% of the desktop users has bought the product who navigated to the payment page of the website"
   ]
  },
  {
   "cell_type": "markdown",
   "id": "5366de06",
   "metadata": {},
   "source": [
    "### Insights on what the product team should focus on in order to improve conversion rate"
   ]
  },
  {
   "cell_type": "markdown",
   "id": "1a4b3c14",
   "metadata": {},
   "source": [
    "1. Overall, the trend has drastically dropped from Feb-2015 to Mar-2015, with slight sign of increase in the following month.\n",
    "2. Surprisingly, it has to be noted that the number of users visiting payment page got slightly increased from Jan-2015 to Feb-2015 before it is getting dropped, whereas number of users who is actually buying the product by making payment has dropped from Jan-2015\n",
    "3. The product team should do some kind of a research to check what is going wrong with the confirmation page. My hypothesis are: customers preferred payment method might not be available, there could be only one mode of payment\n",
    "4. As mentioned above, majority of the users are using desktop to access the product. In this fast paced technology world, product team should definitely try to make product more smarter by making it compatible with mobile phones, tablets, etc. Because, the conversion rate for mobile phone users is better than desktop users. If this product is made more compatible, the sale would definitely go up\n",
    "5. Product team also should make UI/UX better by introducing new features which will attract the customers\n",
    "6. The most important thing the product team should do is, analyze the market and try to understand the compitetors strategy. Because, the sudden drop from Jan-2015 to Feb-2015 is very unusual and this could be because of the compititors as well.\n",
    "7. Product team can do multiple A/B testing to understand customer's behaviour and reaction to each of the improvements in the product. This ensures that they are in right direction, and definitely improves the conversion rate"
   ]
  }
 ],
 "metadata": {
  "kernelspec": {
   "display_name": "Python 3",
   "language": "python",
   "name": "python3"
  },
  "language_info": {
   "codemirror_mode": {
    "name": "ipython",
    "version": 3
   },
   "file_extension": ".py",
   "mimetype": "text/x-python",
   "name": "python",
   "nbconvert_exporter": "python",
   "pygments_lexer": "ipython3",
   "version": "3.8.8"
  }
 },
 "nbformat": 4,
 "nbformat_minor": 5
}
